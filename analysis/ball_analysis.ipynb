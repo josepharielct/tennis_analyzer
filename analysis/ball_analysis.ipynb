{
 "cells": [
  {
   "cell_type": "code",
   "execution_count": 19,
   "metadata": {},
   "outputs": [],
   "source": [
    "import pickle\n",
    "import pandas\n",
    "import matplotlib.pyplot as plt\n",
    "import pandas as pd"
   ]
  },
  {
   "cell_type": "code",
   "execution_count": 20,
   "metadata": {},
   "outputs": [],
   "source": [
    "with open('../tracker_stubs/ball_detections.pkl', 'rb') as f:\n",
    "    ball_positions = pickle.load(f)"
   ]
  },
  {
   "cell_type": "code",
   "execution_count": 21,
   "metadata": {},
   "outputs": [],
   "source": [
    "ball_positions = [x.get(1,[]) for x in ball_positions]\n",
    "\n",
    "df_ball_positions = pd.DataFrame(ball_positions, columns =['x1','y1','x2','y2'])\n",
    "df_ball_positions = df_ball_positions.interpolate()\n",
    "df_ball_positions = df_ball_positions.bfill()"
   ]
  },
  {
   "cell_type": "code",
   "execution_count": 22,
   "metadata": {},
   "outputs": [],
   "source": [
    "df_ball_positions['mid_y'] = (df_ball_positions['y1']+df_ball_positions['y2'])/2\n",
    "df_ball_positions['mid_y_rolling_mean'] = df_ball_positions['mid_y'].rolling(window=5, min_periods=1, center=False).mean()\n"
   ]
  },
  {
   "cell_type": "code",
   "execution_count": 23,
   "metadata": {},
   "outputs": [
    {
     "data": {
      "text/html": [
       "<div>\n",
       "<style scoped>\n",
       "    .dataframe tbody tr th:only-of-type {\n",
       "        vertical-align: middle;\n",
       "    }\n",
       "\n",
       "    .dataframe tbody tr th {\n",
       "        vertical-align: top;\n",
       "    }\n",
       "\n",
       "    .dataframe thead th {\n",
       "        text-align: right;\n",
       "    }\n",
       "</style>\n",
       "<table border=\"1\" class=\"dataframe\">\n",
       "  <thead>\n",
       "    <tr style=\"text-align: right;\">\n",
       "      <th></th>\n",
       "      <th>x1</th>\n",
       "      <th>y1</th>\n",
       "      <th>x2</th>\n",
       "      <th>y2</th>\n",
       "      <th>mid_y</th>\n",
       "      <th>mid_y_rolling_mean</th>\n",
       "    </tr>\n",
       "  </thead>\n",
       "  <tbody>\n",
       "    <tr>\n",
       "      <th>0</th>\n",
       "      <td>892.740051</td>\n",
       "      <td>614.842224</td>\n",
       "      <td>912.821960</td>\n",
       "      <td>636.365540</td>\n",
       "      <td>625.603882</td>\n",
       "      <td>625.603882</td>\n",
       "    </tr>\n",
       "    <tr>\n",
       "      <th>1</th>\n",
       "      <td>892.740051</td>\n",
       "      <td>614.842224</td>\n",
       "      <td>912.821960</td>\n",
       "      <td>636.365540</td>\n",
       "      <td>625.603882</td>\n",
       "      <td>625.603882</td>\n",
       "    </tr>\n",
       "    <tr>\n",
       "      <th>2</th>\n",
       "      <td>876.136322</td>\n",
       "      <td>630.968292</td>\n",
       "      <td>896.552582</td>\n",
       "      <td>653.179443</td>\n",
       "      <td>642.073868</td>\n",
       "      <td>631.093877</td>\n",
       "    </tr>\n",
       "    <tr>\n",
       "      <th>3</th>\n",
       "      <td>859.532593</td>\n",
       "      <td>647.094360</td>\n",
       "      <td>880.283203</td>\n",
       "      <td>669.993347</td>\n",
       "      <td>658.543854</td>\n",
       "      <td>637.956371</td>\n",
       "    </tr>\n",
       "    <tr>\n",
       "      <th>4</th>\n",
       "      <td>846.991760</td>\n",
       "      <td>660.540588</td>\n",
       "      <td>866.084412</td>\n",
       "      <td>681.710632</td>\n",
       "      <td>671.125610</td>\n",
       "      <td>644.590219</td>\n",
       "    </tr>\n",
       "    <tr>\n",
       "      <th>...</th>\n",
       "      <td>...</td>\n",
       "      <td>...</td>\n",
       "      <td>...</td>\n",
       "      <td>...</td>\n",
       "      <td>...</td>\n",
       "      <td>...</td>\n",
       "    </tr>\n",
       "    <tr>\n",
       "      <th>209</th>\n",
       "      <td>1184.488159</td>\n",
       "      <td>248.282776</td>\n",
       "      <td>1199.705688</td>\n",
       "      <td>265.618774</td>\n",
       "      <td>256.950775</td>\n",
       "      <td>283.085243</td>\n",
       "    </tr>\n",
       "    <tr>\n",
       "      <th>210</th>\n",
       "      <td>1184.576294</td>\n",
       "      <td>233.534973</td>\n",
       "      <td>1196.093628</td>\n",
       "      <td>246.410583</td>\n",
       "      <td>239.972778</td>\n",
       "      <td>269.071252</td>\n",
       "    </tr>\n",
       "    <tr>\n",
       "      <th>211</th>\n",
       "      <td>1183.293213</td>\n",
       "      <td>227.154877</td>\n",
       "      <td>1195.682007</td>\n",
       "      <td>241.841766</td>\n",
       "      <td>234.498322</td>\n",
       "      <td>256.814767</td>\n",
       "    </tr>\n",
       "    <tr>\n",
       "      <th>212</th>\n",
       "      <td>1180.384644</td>\n",
       "      <td>213.835648</td>\n",
       "      <td>1194.388184</td>\n",
       "      <td>229.726547</td>\n",
       "      <td>221.781097</td>\n",
       "      <td>244.867236</td>\n",
       "    </tr>\n",
       "    <tr>\n",
       "      <th>213</th>\n",
       "      <td>1179.837036</td>\n",
       "      <td>204.549911</td>\n",
       "      <td>1192.640137</td>\n",
       "      <td>218.817581</td>\n",
       "      <td>211.683746</td>\n",
       "      <td>232.977344</td>\n",
       "    </tr>\n",
       "  </tbody>\n",
       "</table>\n",
       "<p>214 rows × 6 columns</p>\n",
       "</div>"
      ],
      "text/plain": [
       "              x1          y1           x2          y2       mid_y  \\\n",
       "0     892.740051  614.842224   912.821960  636.365540  625.603882   \n",
       "1     892.740051  614.842224   912.821960  636.365540  625.603882   \n",
       "2     876.136322  630.968292   896.552582  653.179443  642.073868   \n",
       "3     859.532593  647.094360   880.283203  669.993347  658.543854   \n",
       "4     846.991760  660.540588   866.084412  681.710632  671.125610   \n",
       "..           ...         ...          ...         ...         ...   \n",
       "209  1184.488159  248.282776  1199.705688  265.618774  256.950775   \n",
       "210  1184.576294  233.534973  1196.093628  246.410583  239.972778   \n",
       "211  1183.293213  227.154877  1195.682007  241.841766  234.498322   \n",
       "212  1180.384644  213.835648  1194.388184  229.726547  221.781097   \n",
       "213  1179.837036  204.549911  1192.640137  218.817581  211.683746   \n",
       "\n",
       "     mid_y_rolling_mean  \n",
       "0            625.603882  \n",
       "1            625.603882  \n",
       "2            631.093877  \n",
       "3            637.956371  \n",
       "4            644.590219  \n",
       "..                  ...  \n",
       "209          283.085243  \n",
       "210          269.071252  \n",
       "211          256.814767  \n",
       "212          244.867236  \n",
       "213          232.977344  \n",
       "\n",
       "[214 rows x 6 columns]"
      ]
     },
     "execution_count": 23,
     "metadata": {},
     "output_type": "execute_result"
    }
   ],
   "source": [
    "df_ball_positions"
   ]
  },
  {
   "cell_type": "code",
   "execution_count": 24,
   "metadata": {},
   "outputs": [
    {
     "data": {
      "text/plain": [
       "[<matplotlib.lines.Line2D at 0x147583390>]"
      ]
     },
     "execution_count": 24,
     "metadata": {},
     "output_type": "execute_result"
    },
    {
     "data": {
      "image/png": "[encoded data removed]",
      "text/plain": [
       "<Figure size 640x480 with 1 Axes>"
      ]
     },
     "metadata": {},
     "output_type": "display_data"
    }
   ],
   "source": [
    "plt.plot(df_ball_positions['mid_y_rolling_mean']) #Turning point signifies ball hit"
   ]
  },
  {
   "cell_type": "code",
   "execution_count": 25,
   "metadata": {},
   "outputs": [],
   "source": [
    "df_ball_positions['mid_y'] = (df_ball_positions['y1']+df_ball_positions['y2'])/2\n",
    "df_ball_positions['mid_y_rolling_mean'] = df_ball_positions['mid_y'].rolling(window=5, min_periods=1, center=False).mean()\n",
    "df_ball_positions['delta_y'] = df_ball_positions['mid_y_rolling_mean'].diff()"
   ]
  },
  {
   "cell_type": "code",
   "execution_count": 26,
   "metadata": {},
   "outputs": [
    {
     "data": {
      "text/plain": [
       "[<matplotlib.lines.Line2D at 0x147df5b50>]"
      ]
     },
     "execution_count": 26,
     "metadata": {},
     "output_type": "execute_result"
    },
    {
     "data": {
      "image/png": "[encoded data removed]",
      "text/plain": [
       "<Figure size 640x480 with 1 Axes>"
      ]
     },
     "metadata": {},
     "output_type": "display_data"
    }
   ],
   "source": [
    "plt.plot(df_ball_positions['delta_y'])"
   ]
  },
  {
   "cell_type": "code",
   "execution_count": 27,
   "metadata": {},
   "outputs": [],
   "source": [
    "df_ball_positions['ball_hit'] = 0"
   ]
  },
  {
   "cell_type": "code",
   "execution_count": 28,
   "metadata": {},
   "outputs": [
    {
     "name": "stderr",
     "output_type": "stream",
     "text": [
      "/var/folders/cw/jpmlzv892j3bwm0g2lghpmhc0000gq/T/ipykernel_3650/3299484820.py:17: SettingWithCopyWarning: \n",
      "A value is trying to be set on a copy of a slice from a DataFrame\n",
      "\n",
      "See the caveats in the documentation: https://pandas.pydata.org/pandas-docs/stable/user_guide/indexing.html#returning-a-view-versus-a-copy\n",
      "  df_ball_positions['ball_hit'].iloc[i]=1\n",
      "/var/folders/cw/jpmlzv892j3bwm0g2lghpmhc0000gq/T/ipykernel_3650/3299484820.py:17: SettingWithCopyWarning: \n",
      "A value is trying to be set on a copy of a slice from a DataFrame\n",
      "\n",
      "See the caveats in the documentation: https://pandas.pydata.org/pandas-docs/stable/user_guide/indexing.html#returning-a-view-versus-a-copy\n",
      "  df_ball_positions['ball_hit'].iloc[i]=1\n",
      "/var/folders/cw/jpmlzv892j3bwm0g2lghpmhc0000gq/T/ipykernel_3650/3299484820.py:17: SettingWithCopyWarning: \n",
      "A value is trying to be set on a copy of a slice from a DataFrame\n",
      "\n",
      "See the caveats in the documentation: https://pandas.pydata.org/pandas-docs/stable/user_guide/indexing.html#returning-a-view-versus-a-copy\n",
      "  df_ball_positions['ball_hit'].iloc[i]=1\n",
      "/var/folders/cw/jpmlzv892j3bwm0g2lghpmhc0000gq/T/ipykernel_3650/3299484820.py:17: SettingWithCopyWarning: \n",
      "A value is trying to be set on a copy of a slice from a DataFrame\n",
      "\n",
      "See the caveats in the documentation: https://pandas.pydata.org/pandas-docs/stable/user_guide/indexing.html#returning-a-view-versus-a-copy\n",
      "  df_ball_positions['ball_hit'].iloc[i]=1\n",
      "/var/folders/cw/jpmlzv892j3bwm0g2lghpmhc0000gq/T/ipykernel_3650/3299484820.py:17: SettingWithCopyWarning: \n",
      "A value is trying to be set on a copy of a slice from a DataFrame\n",
      "\n",
      "See the caveats in the documentation: https://pandas.pydata.org/pandas-docs/stable/user_guide/indexing.html#returning-a-view-versus-a-copy\n",
      "  df_ball_positions['ball_hit'].iloc[i]=1\n"
     ]
    }
   ],
   "source": [
    "df_ball_positions['mid_y'] = (df_ball_positions['y1']+df_ball_positions['y2'])/2\n",
    "df_ball_positions['mid_y_rolling_mean'] = df_ball_positions['mid_y'].rolling(window=5, min_periods=1, center=False).mean()\n",
    "df_ball_positions['delta_y'] = df_ball_positions['mid_y_rolling_mean'].diff()\n",
    "\n",
    "hit_frames_threshold = 25\n",
    "for i in range(1,len(df_ball_positions)-int(hit_frames_threshold*1.2)):\n",
    "    negative_position_change = df_ball_positions['delta_y'].iloc[i] > 0 and df_ball_positions['delta_y'].iloc[i+1]<0\n",
    "    positive_position_change = df_ball_positions['delta_y'].iloc[i] < 0 and df_ball_positions['delta_y'].iloc[i+1]>0\n",
    "\n",
    "    if negative_position_change or positive_position_change:\n",
    "        count = 0\n",
    "        for change_frame in range(i+1, i+int(hit_frames_threshold*1.2)):\n",
    "            negative_position_change_next_frame = df_ball_positions['delta_y'].iloc[i] > 0 and df_ball_positions['delta_y'].iloc[change_frame+1]<0\n",
    "            positive_position_change_next_frame = df_ball_positions['delta_y'].iloc[i] < 0 and df_ball_positions['delta_y'].iloc[change_frame+1]>0\n",
    "\n",
    "            if negative_position_change and negative_position_change_next_frame:\n",
    "                count +=1\n",
    "            if positive_position_change and positive_position_change_next_frame:\n",
    "                count +=1\n",
    "        if count > hit_frames_threshold-1:\n",
    "            df_ball_positions['ball_hit'].iloc[i]=1\n",
    "frames_ball_hits = df_ball_positions[df_ball_positions['ball_hit']==1].index.tolist()"
   ]
  },
  {
   "cell_type": "code",
   "execution_count": 30,
   "metadata": {},
   "outputs": [
    {
     "data": {
      "text/html": [
       "<div>\n",
       "<style scoped>\n",
       "    .dataframe tbody tr th:only-of-type {\n",
       "        vertical-align: middle;\n",
       "    }\n",
       "\n",
       "    .dataframe tbody tr th {\n",
       "        vertical-align: top;\n",
       "    }\n",
       "\n",
       "    .dataframe thead th {\n",
       "        text-align: right;\n",
       "    }\n",
       "</style>\n",
       "<table border=\"1\" class=\"dataframe\">\n",
       "  <thead>\n",
       "    <tr style=\"text-align: right;\">\n",
       "      <th></th>\n",
       "      <th>x1</th>\n",
       "      <th>y1</th>\n",
       "      <th>x2</th>\n",
       "      <th>y2</th>\n",
       "      <th>mid_y</th>\n",
       "      <th>mid_y_rolling_mean</th>\n",
       "      <th>delta_y</th>\n",
       "      <th>ball_hit</th>\n",
       "    </tr>\n",
       "  </thead>\n",
       "  <tbody>\n",
       "    <tr>\n",
       "      <th>11</th>\n",
       "      <td>779.729696</td>\n",
       "      <td>721.287170</td>\n",
       "      <td>796.819173</td>\n",
       "      <td>740.330444</td>\n",
       "      <td>730.808807</td>\n",
       "      <td>736.009637</td>\n",
       "      <td>6.903937</td>\n",
       "      <td>1</td>\n",
       "    </tr>\n",
       "    <tr>\n",
       "      <th>58</th>\n",
       "      <td>925.504382</td>\n",
       "      <td>240.885297</td>\n",
       "      <td>937.554260</td>\n",
       "      <td>253.658258</td>\n",
       "      <td>247.271777</td>\n",
       "      <td>242.405068</td>\n",
       "      <td>-1.646990</td>\n",
       "      <td>1</td>\n",
       "    </tr>\n",
       "    <tr>\n",
       "      <th>95</th>\n",
       "      <td>624.415802</td>\n",
       "      <td>748.323608</td>\n",
       "      <td>641.920593</td>\n",
       "      <td>768.035095</td>\n",
       "      <td>758.179352</td>\n",
       "      <td>775.397028</td>\n",
       "      <td>0.866730</td>\n",
       "      <td>1</td>\n",
       "    </tr>\n",
       "    <tr>\n",
       "      <th>131</th>\n",
       "      <td>716.384918</td>\n",
       "      <td>229.174377</td>\n",
       "      <td>728.357086</td>\n",
       "      <td>242.501457</td>\n",
       "      <td>235.837917</td>\n",
       "      <td>235.339113</td>\n",
       "      <td>-0.694547</td>\n",
       "      <td>1</td>\n",
       "    </tr>\n",
       "    <tr>\n",
       "      <th>182</th>\n",
       "      <td>1294.975342</td>\n",
       "      <td>739.954163</td>\n",
       "      <td>1313.678223</td>\n",
       "      <td>759.991577</td>\n",
       "      <td>749.972870</td>\n",
       "      <td>737.164441</td>\n",
       "      <td>5.219702</td>\n",
       "      <td>1</td>\n",
       "    </tr>\n",
       "  </tbody>\n",
       "</table>\n",
       "</div>"
      ],
      "text/plain": [
       "              x1          y1           x2          y2       mid_y  \\\n",
       "11    779.729696  721.287170   796.819173  740.330444  730.808807   \n",
       "58    925.504382  240.885297   937.554260  253.658258  247.271777   \n",
       "95    624.415802  748.323608   641.920593  768.035095  758.179352   \n",
       "131   716.384918  229.174377   728.357086  242.501457  235.837917   \n",
       "182  1294.975342  739.954163  1313.678223  759.991577  749.972870   \n",
       "\n",
       "     mid_y_rolling_mean   delta_y  ball_hit  \n",
       "11           736.009637  6.903937         1  \n",
       "58           242.405068 -1.646990         1  \n",
       "95           775.397028  0.866730         1  \n",
       "131          235.339113 -0.694547         1  \n",
       "182          737.164441  5.219702         1  "
      ]
     },
     "execution_count": 30,
     "metadata": {},
     "output_type": "execute_result"
    }
   ],
   "source": [
    "df_ball_positions[df_ball_positions['ball_hit']==1] #frames when ball is hit"
   ]
  },
  {
   "cell_type": "code",
   "execution_count": 32,
   "metadata": {},
   "outputs": [],
   "source": [
    "frames_ball_hits = df_ball_positions[df_ball_positions['ball_hit']==1].index.tolist()"
   ]
  },
  {
   "cell_type": "code",
   "execution_count": 33,
   "metadata": {},
   "outputs": [
    {
     "data": {
      "text/plain": [
       "[11, 58, 95, 131, 182]"
      ]
     },
     "execution_count": 33,
     "metadata": {},
     "output_type": "execute_result"
    }
   ],
   "source": [
    "frames_ball_hits"
   ]
  },
  {
   "cell_type": "code",
   "execution_count": null,
   "metadata": {},
   "outputs": [],
   "source": []
  }
 ],
 "metadata": {
  "kernelspec": {
   "display_name": "base",
   "language": "python",
   "name": "python3"
  },
  "language_info": {
   "codemirror_mode": {
    "name": "ipython",
    "version": 3
   },
   "file_extension": ".py",
   "mimetype": "text/x-python",
   "name": "python",
   "nbconvert_exporter": "python",
   "pygments_lexer": "ipython3",
   "version": "3.11.5"
  }
 },
 "nbformat": 4,
 "nbformat_minor": 2
}

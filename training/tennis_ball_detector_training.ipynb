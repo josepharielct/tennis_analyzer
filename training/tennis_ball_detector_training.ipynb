{
 "cells": [
  {
   "cell_type": "markdown",
   "metadata": {},
   "source": [
    "# Get Dataset"
   ]
  },
  {
   "cell_type": "code",
   "execution_count": 14,
   "metadata": {},
   "outputs": [
    {
     "name": "stdout",
     "output_type": "stream",
     "text": [
      "loading Roboflow workspace...\n",
      "loading Roboflow project...\n"
     ]
    },
    {
     "name": "stderr",
     "output_type": "stream",
     "text": [
      "Downloading Dataset Version Zip in tennis-ball-detection-6 to yolov5pytorch:: 100%|██████████| 52040/52040 [00:11<00:00, 4713.94it/s] "
     ]
    },
    {
     "name": "stdout",
     "output_type": "stream",
     "text": [
      "\n"
     ]
    },
    {
     "name": "stderr",
     "output_type": "stream",
     "text": [
      "\n",
      "Extracting Dataset Version Zip to tennis-ball-detection-6 in yolov5pytorch:: 100%|██████████| 1168/1168 [00:00<00:00, 1479.00it/s]\n"
     ]
    }
   ],
   "source": [
    "from roboflow import Roboflow\n",
    "rf = Roboflow(api_key=\"APIKEY\")\n",
    "project = rf.workspace(\"viren-dhanwani\").project(\"tennis-ball-detection\")\n",
    "version = project.version(6)\n",
    "dataset = version.download(\"yolov5\")"
   ]
  },
  {
   "cell_type": "code",
   "execution_count": null,
   "metadata": {},
   "outputs": [],
   "source": []
  },
  {
   "cell_type": "code",
   "execution_count": 15,
   "metadata": {},
   "outputs": [],
   "source": [
    "import shutil"
   ]
  },
  {
   "cell_type": "code",
   "execution_count": 16,
   "metadata": {},
   "outputs": [
    {
     "data": {
      "text/plain": [
       "'tennis-ball-detection-6/tennis-ball-detection-6/valid'"
      ]
     },
     "execution_count": 16,
     "metadata": {},
     "output_type": "execute_result"
    }
   ],
   "source": [
    "shutil.move(\"tennis-ball-detection-6/train\", \"tennis-ball-detection-6/tennis-ball-detection-6/train\")\n",
    "shutil.move(\"tennis-ball-detection-6/test\", \"tennis-ball-detection-6/tennis-ball-detection-6/test\")\n",
    "shutil.move(\"tennis-ball-detection-6/valid\", \"tennis-ball-detection-6/tennis-ball-detection-6/valid\")"
   ]
  },
  {
   "cell_type": "code",
   "execution_count": null,
   "metadata": {},
   "outputs": [],
   "source": []
  },
  {
   "cell_type": "code",
   "execution_count": 17,
   "metadata": {},
   "outputs": [
    {
     "name": "stdout",
     "output_type": "stream",
     "text": [
      "^C\n",
      "Traceback (most recent call last):\n",
      "  File \"/Users/joseph.teja/anaconda3/bin/yolo\", line 5, in <module>\n",
      "    from ultralytics.cfg import entrypoint\n",
      "  File \"/Users/joseph.teja/anaconda3/lib/python3.11/site-packages/ultralytics/__init__.py\", line 5, in <module>\n",
      "    from ultralytics.data.explorer.explorer import Explorer\n",
      "  File \"/Users/joseph.teja/anaconda3/lib/python3.11/site-packages/ultralytics/data/__init__.py\", line 3, in <module>\n",
      "    from .base import BaseDataset\n",
      "  File \"/Users/joseph.teja/anaconda3/lib/python3.11/site-packages/ultralytics/data/base.py\", line 15, in <module>\n",
      "    from torch.utils.data import Dataset\n",
      "  File \"/Users/joseph.teja/anaconda3/lib/python3.11/site-packages/torch/__init__.py\", line 1854, in <module>\n",
      "    from . import _meta_registrations\n",
      "  File \"/Users/joseph.teja/anaconda3/lib/python3.11/site-packages/torch/_meta_registrations.py\", line 9, in <module>\n",
      "    from torch._decomp import (\n",
      "  File \"/Users/joseph.teja/anaconda3/lib/python3.11/site-packages/torch/_decomp/__init__.py\", line 243, in <module>\n",
      "    import torch._decomp.decompositions\n",
      "  File \"/Users/joseph.teja/anaconda3/lib/python3.11/site-packages/torch/_decomp/decompositions.py\", line 11, in <module>\n",
      "    import torch._prims as prims\n",
      "  File \"/Users/joseph.teja/anaconda3/lib/python3.11/site-packages/torch/_prims/__init__.py\", line 1718, in <module>\n",
      "    squeeze = _make_prim(\n",
      "              ^^^^^^^^^^^\n",
      "  File \"/Users/joseph.teja/anaconda3/lib/python3.11/site-packages/torch/_prims/__init__.py\", line 301, in _make_prim\n",
      "    prim_meta_impl.impl(name, meta)\n",
      "  File \"/Users/joseph.teja/anaconda3/lib/python3.11/site-packages/torch/library.py\", line 160, in impl\n",
      "    if torch._C._dispatch_has_kernel_for_dispatch_key(dispatcher_op_name, \"CompositeImplicitAutograd\"):\n",
      "       ^^^^^^^^^^^^^^^^^^^^^^^^^^^^^^^^^^^^^^^^^^^^^^^^^^^^^^^^^^^^^^^^^^^^^^^^^^^^^^^^^^^^^^^^^^^^^^^\n",
      "KeyboardInterrupt\n"
     ]
    }
   ],
   "source": [
    "!yolo task=detect mode=train model=yolov516u.pt data={dataset.location}/data.yaml epochs=100 imgsz=640"
   ]
  },
  {
   "cell_type": "code",
   "execution_count": null,
   "metadata": {},
   "outputs": [],
   "source": []
  },
  {
   "cell_type": "code",
   "execution_count": null,
   "metadata": {},
   "outputs": [],
   "source": []
  },
  {
   "cell_type": "code",
   "execution_count": null,
   "metadata": {},
   "outputs": [],
   "source": []
  },
  {
   "cell_type": "code",
   "execution_count": null,
   "metadata": {},
   "outputs": [],
   "source": []
  },
  {
   "cell_type": "code",
   "execution_count": null,
   "metadata": {},
   "outputs": [],
   "source": []
  },
  {
   "cell_type": "code",
   "execution_count": null,
   "metadata": {},
   "outputs": [],
   "source": []
  },
  {
   "cell_type": "code",
   "execution_count": null,
   "metadata": {},
   "outputs": [],
   "source": []
  },
  {
   "cell_type": "code",
   "execution_count": null,
   "metadata": {},
   "outputs": [],
   "source": []
  },
  {
   "cell_type": "code",
   "execution_count": null,
   "metadata": {},
   "outputs": [],
   "source": []
  },
  {
   "cell_type": "code",
   "execution_count": null,
   "metadata": {},
   "outputs": [],
   "source": []
  },
  {
   "cell_type": "code",
   "execution_count": null,
   "metadata": {},
   "outputs": [],
   "source": []
  },
  {
   "cell_type": "code",
   "execution_count": null,
   "metadata": {},
   "outputs": [],
   "source": []
  }
 ],
 "metadata": {
  "kernelspec": {
   "display_name": "base",
   "language": "python",
   "name": "python3"
  },
  "language_info": {
   "codemirror_mode": {
    "name": "ipython",
    "version": 3
   },
   "file_extension": ".py",
   "mimetype": "text/x-python",
   "name": "python",
   "nbconvert_exporter": "python",
   "pygments_lexer": "ipython3",
   "version": "3.11.5"
  }
 },
 "nbformat": 4,
 "nbformat_minor": 2
}
